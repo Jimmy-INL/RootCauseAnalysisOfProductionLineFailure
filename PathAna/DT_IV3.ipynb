{
 "cells": [
  {
   "cell_type": "code",
   "execution_count": 1,
   "metadata": {},
   "outputs": [],
   "source": [
    "from collections import namedtuple,defaultdict\n",
    "import numpy as np\n",
    "import pandas as pd"
   ]
  },
  {
   "cell_type": "code",
   "execution_count": 2,
   "metadata": {},
   "outputs": [],
   "source": [
    "\n",
    "TreeNode = namedtuple(\"TreeNode\", 'feature iv branch label')\n",
    "\n",
    "class DecisionTreeClassifier(object):\n",
    "    def __init__(self):\n",
    "        pass\n",
    "\n",
    "    @staticmethod\n",
    "    def devide_X(X_, feature):\n",
    "        \"\"\"切分集合\n",
    "        :param X_: 被切分的集合, shape=[ni_samples, ni_features + 1]\n",
    "        :param feature: 切分变量\n",
    "        :param val: 切分变量的值\n",
    "        :return: 数据集合list\n",
    "        \"\"\"\n",
    "        X_list=[]\n",
    "        feature_unique_val=np.unique(X_[:, feature])\n",
    "        for _ in feature_unique_val:\n",
    "            X_list.append(X_[X_[:, feature] == _])\n",
    "        return X_list,feature_unique_val\n",
    "    @staticmethod\n",
    "    def iv_index(cluster, attr_index):\n",
    "        \"\"\"\n",
    "        :param cluster: 训练集的一个子集\n",
    "        :param attr_index:  特征编号（第N个特征）\n",
    "        :return: 第N个特征的的IV\n",
    "        \"\"\"\n",
    "        yi_dict = defaultdict(int)  # 每个特征，每种值中label =1的数量\n",
    "        ni_dict = defaultdict(int)  # 每个特征，每种值 label =0的数量\n",
    "        label_t_dict = defaultdict(int)  # label=1或0的数量\n",
    "        for line in cluster:\n",
    "            yi_dict[line[attr_index]] += line[-1]\n",
    "            ni_dict[line[attr_index]] += (1 - line[-1])\n",
    "            label_t_dict[line[-1]] += 1\n",
    "        yi_arr = np.array(list(yi_dict.values()))\n",
    "        ni_arr = np.array(list(ni_dict.values()))\n",
    "\n",
    "        pyi = yi_arr / label_t_dict[1]\n",
    "        pni = ni_arr / label_t_dict[0]\n",
    "        pyi[pyi == 0] = 1\n",
    "        pni[pni == 0] = 1  # Laplace平滑，令概率不为0\n",
    "\n",
    "        pyi_div_pni = pyi / pni\n",
    "        iv_i_arr = ((pyi) - (pni)) * np.log(pyi_div_pni)\n",
    "        #         iv_i_arr[iv_i_arr > 0.8] = 0\n",
    "\n",
    "        return sum(iv_i_arr)\n",
    "\n",
    "    @staticmethod\n",
    "    def get_best_iv_index(cluster, attr_indexs):\n",
    "        '''\n",
    "        :param cluster: 给定数据集\n",
    "        :param attr_indexs: 给定的可供切分的特征编号的集合\n",
    "        :return: 最佳切分特征，该特征的iv得分\n",
    "        '''\n",
    "        p = {}\n",
    "        for attr_index in attr_indexs:\n",
    "            p[attr_index] = DecisionTreeClassifier.iv_index(cluster, attr_index)\n",
    "        attr_index = max(p, key=lambda x: p.get(x))#这里返回的是value最大的key值\n",
    "        attr = p[attr_index]\n",
    "        return attr_index, attr\n",
    "\n",
    "    def build(self, X_, features):\n",
    "        \"\"\"建树\n",
    "        :param X_: 候选集 shape=[ni_samples, n_features + 1]\n",
    "        :param features: 候选特征集\n",
    "        :param depth: 当前深度\n",
    "        :return: 结点\n",
    "        \"\"\"\n",
    "\n",
    "        if np.unique(X_[:, -1]).shape[0] == 1:\n",
    "            return TreeNode(None, None, None, X_[0, -1])\n",
    "        if features.shape[0] == 0 :\n",
    "            classes, classes_count = np.unique(X_[:, -1], return_counts=True)\n",
    "            return TreeNode(None, None, None, classes[np.argmax(classes_count)])\n",
    "        feature_index, iv = DecisionTreeClassifier.get_best_iv_index(X_, features)\n",
    "        new_features = features[features != feature_index]\n",
    "        del features\n",
    "\n",
    "        X_list,feature_unique_val = DecisionTreeClassifier.devide_X(X_, feature_index)\n",
    "        branch_dict={}\n",
    "        for fea_val,_ in zip(feature_unique_val,X_list):\n",
    "            branch_temp = self.build(_, new_features)\n",
    "            branch_dict[fea_val]=(branch_temp)\n",
    "\n",
    "        return TreeNode(feature_index, iv, branch_dict, None)\n",
    "\n",
    "    def fit(self, X, y):\n",
    "        \"\"\"\n",
    "        :param X_: shape = [n_samples, n_features]\n",
    "        :param y: shape = [n_samples]\n",
    "        :return: self\n",
    "        \"\"\"\n",
    "        features = np.arange(X.shape[1])\n",
    "        X_ = np.c_[X, y]\n",
    "        self.root = self.build(X_, features)\n",
    "        return self\n",
    "\n",
    "    def predict_one(self, x):\n",
    "        p = self.root\n",
    "        while p.label is None:\n",
    "            print(p.feature)\n",
    "            p = p.branch[x[p.feature]]\n",
    "        return p.label\n",
    "\n",
    "    def predict(self, X):\n",
    "        \"\"\"\n",
    "        :param X: shape = [n_samples, n_features]\n",
    "        :return: shape = [n_samples]\n",
    "        \"\"\"\n",
    "        return np.array([self.predict_one(x) for x in X])\n",
    "\n"
   ]
  },
  {
   "cell_type": "code",
   "execution_count": null,
   "metadata": {},
   "outputs": [],
   "source": [
    "def count_ratio_every_col_obj(df_raw:pd.DataFrame):\n",
    "    new_col=[]\n",
    "    total=df_raw.shape[0]\n",
    "    for _ in df_raw.columns:\n",
    "        a=pd.value_counts(df_raw[_])\n",
    "        df_=a/total\n",
    "        print(_,max(df_))\n",
    "        if (max(df_)<0.95):\n",
    "            new_col.append(_)\n",
    "    return new_col"
   ]
  },
  {
   "cell_type": "code",
   "execution_count": null,
   "metadata": {},
   "outputs": [],
   "source": [
    "df_equip_history=pd.read_csv(\"F:\\\\YIELD\\\\YoudaOptronics\\\\Archive(1)\\\\equip_history.csv\",engine=\"python\",sep=',',encoding='GBK')\n",
    "\n",
    "df_equip_history['SHEET_ID']=df_equip_history['锘縎HEET_ID'] # modify unidentifiable columns \n",
    "df_equip_history.drop(columns=['锘縎HEET_ID'],inplace=True)\n",
    "df_equip_history.fillna('-1',inplace=True)\n",
    "\n",
    "col_list=[] #Found all productive station & machine under it .\n",
    "for col in list(df_equip_history.columns):\n",
    "    if 'R' not in col:\n",
    "        col_list.append(col)\n",
    "print(col_list)\n",
    "\n",
    "df_measure_labels=pd.read_csv(\"F:\\\\YIELD\\\\YoudaOptronics\\\\Archive(1)\\\\measure_labels.csv\",engine=\"python\",sep=',',encoding='GBK')\n",
    "df_measure_labels.dropna(inplace=True)\n",
    "\n",
    "df_temp=pd.merge(df_equip_history[col_list],df_measure_labels[['SHEET_ID','Y']],how='inner',on='SHEET_ID')\n",
    "df_temp['label']=0\n",
    "df_temp['label'][(df_temp['Y']>=1)|(df_temp['Y']<=-1)]=1\n",
    "col_list.remove('SHEET_ID')\n",
    "\n",
    "\n",
    "df_label1=df_temp[df_temp['label']==1].copy()#sheetId有大量重复，这里选择只要有出现过不良的就作为响应标签\n",
    "df_label1.drop_duplicates(inplace=True)\n",
    "df_label0=df_temp[df_temp['label']==0].copy()\n",
    "df_label0.drop_duplicates(inplace=True)\n",
    "df_temp=pd.concat([df_label1,df_label0],axis=0)\n",
    "df_temp.drop_duplicates('SHEET_ID','first',inplace=True)\n",
    "\n",
    "print(df_temp.shape)\n",
    "columns_list=count_ratio_every_col_obj(df_temp)\n",
    "print(columns_list)\n",
    "columns_list.remove('SHEET_ID')\n",
    "columns_list.remove('label')\n",
    "columns_list.remove('Y')\n",
    "feature_data=df_temp[columns_list]\n",
    "label_array=df_temp['label']"
   ]
  },
  {
   "cell_type": "code",
   "execution_count": 7,
   "metadata": {},
   "outputs": [],
   "source": [
    "from sklearn.model_selection import train_test_split\n",
    "from sklearn.metrics import confusion_matrix,roc_curve,auc, accuracy_score,recall_score,precision_score\n",
    "from sklearn import tree"
   ]
  },
  {
   "cell_type": "code",
   "execution_count": 8,
   "metadata": {},
   "outputs": [],
   "source": [
    "X_train, X_test, y_train, y_test =train_test_split(feature_data,label_array,test_size=0.05, random_state=0)"
   ]
  },
  {
   "cell_type": "code",
   "execution_count": 9,
   "metadata": {},
   "outputs": [],
   "source": [
    "iv_clf=DecisionTreeClassifier()\n",
    "iv_clf=iv_clf.fit(X_train.values,y_train.values)"
   ]
  },
  {
   "cell_type": "code",
   "execution_count": 10,
   "metadata": {},
   "outputs": [
    {
     "name": "stdout",
     "output_type": "stream",
     "text": [
      "12\n",
      "6\n",
      "11\n",
      "1\n",
      "5\n",
      "12\n",
      "7\n",
      "10\n",
      "6\n",
      "12\n",
      "7\n",
      "10\n",
      "6\n",
      "12\n",
      "7\n",
      "10\n",
      "1\n",
      "6\n",
      "8\n",
      "12\n",
      "7\n",
      "10\n",
      "1\n",
      "11\n",
      "12\n",
      "7\n",
      "10\n",
      "1\n",
      "6\n",
      "5\n",
      "0\n",
      "2\n",
      "3\n"
     ]
    },
    {
     "ename": "KeyError",
     "evalue": "0",
     "output_type": "error",
     "traceback": [
      "\u001b[1;31m---------------------------------------------------------------------------\u001b[0m",
      "\u001b[1;31mKeyError\u001b[0m                                  Traceback (most recent call last)",
      "\u001b[1;32m<ipython-input-10-d6f7a200b486>\u001b[0m in \u001b[0;36m<module>\u001b[1;34m()\u001b[0m\n\u001b[1;32m----> 1\u001b[1;33m \u001b[0my_pred\u001b[0m\u001b[1;33m=\u001b[0m\u001b[0miv_clf\u001b[0m\u001b[1;33m.\u001b[0m\u001b[0mpredict\u001b[0m\u001b[1;33m(\u001b[0m\u001b[0mX_test\u001b[0m\u001b[1;33m.\u001b[0m\u001b[0mvalues\u001b[0m\u001b[1;33m)\u001b[0m\u001b[1;33m\u001b[0m\u001b[0m\n\u001b[0m\u001b[0;32m      2\u001b[0m \u001b[0mprint\u001b[0m\u001b[1;33m(\u001b[0m\u001b[0maccuracy_score\u001b[0m\u001b[1;33m(\u001b[0m\u001b[0my_test\u001b[0m\u001b[1;33m,\u001b[0m \u001b[0my_pred\u001b[0m\u001b[1;33m)\u001b[0m\u001b[1;33m)\u001b[0m\u001b[1;33m\u001b[0m\u001b[0m\n\u001b[0;32m      3\u001b[0m \u001b[0mprint\u001b[0m\u001b[1;33m(\u001b[0m\u001b[0mrecall_score\u001b[0m\u001b[1;33m(\u001b[0m\u001b[0my_test\u001b[0m\u001b[1;33m,\u001b[0m \u001b[0my_pred\u001b[0m\u001b[1;33m)\u001b[0m\u001b[1;33m)\u001b[0m\u001b[1;33m\u001b[0m\u001b[0m\n\u001b[0;32m      4\u001b[0m \u001b[0mprint\u001b[0m\u001b[1;33m(\u001b[0m\u001b[0mprecision_score\u001b[0m\u001b[1;33m(\u001b[0m\u001b[0my_test\u001b[0m\u001b[1;33m,\u001b[0m \u001b[0my_pred\u001b[0m\u001b[1;33m)\u001b[0m\u001b[1;33m)\u001b[0m\u001b[1;33m\u001b[0m\u001b[0m\n\u001b[0;32m      5\u001b[0m \u001b[0mprint\u001b[0m\u001b[1;33m(\u001b[0m\u001b[0mconfusion_matrix\u001b[0m\u001b[1;33m(\u001b[0m\u001b[0my_test\u001b[0m\u001b[1;33m,\u001b[0m \u001b[0my_pred\u001b[0m\u001b[1;33m,\u001b[0m\u001b[0mlabels\u001b[0m\u001b[1;33m=\u001b[0m\u001b[1;33m[\u001b[0m\u001b[1;36m0\u001b[0m\u001b[1;33m,\u001b[0m\u001b[1;36m1\u001b[0m\u001b[1;33m]\u001b[0m\u001b[1;33m)\u001b[0m\u001b[1;33m)\u001b[0m\u001b[1;33m\u001b[0m\u001b[0m\n",
      "\u001b[1;32m<ipython-input-2-7c84a60995bb>\u001b[0m in \u001b[0;36mpredict\u001b[1;34m(self, X)\u001b[0m\n\u001b[0;32m    109\u001b[0m         \u001b[1;33m:\u001b[0m\u001b[1;32mreturn\u001b[0m\u001b[1;33m:\u001b[0m \u001b[0mshape\u001b[0m \u001b[1;33m=\u001b[0m \u001b[1;33m[\u001b[0m\u001b[0mn_samples\u001b[0m\u001b[1;33m]\u001b[0m\u001b[1;33m\u001b[0m\u001b[0m\n\u001b[0;32m    110\u001b[0m         \"\"\"\n\u001b[1;32m--> 111\u001b[1;33m         \u001b[1;32mreturn\u001b[0m \u001b[0mnp\u001b[0m\u001b[1;33m.\u001b[0m\u001b[0marray\u001b[0m\u001b[1;33m(\u001b[0m\u001b[1;33m[\u001b[0m\u001b[0mself\u001b[0m\u001b[1;33m.\u001b[0m\u001b[0mpredict_one\u001b[0m\u001b[1;33m(\u001b[0m\u001b[0mx\u001b[0m\u001b[1;33m)\u001b[0m \u001b[1;32mfor\u001b[0m \u001b[0mx\u001b[0m \u001b[1;32min\u001b[0m \u001b[0mX\u001b[0m\u001b[1;33m]\u001b[0m\u001b[1;33m)\u001b[0m\u001b[1;33m\u001b[0m\u001b[0m\n\u001b[0m",
      "\u001b[1;32m<ipython-input-2-7c84a60995bb>\u001b[0m in \u001b[0;36m<listcomp>\u001b[1;34m(.0)\u001b[0m\n\u001b[0;32m    109\u001b[0m         \u001b[1;33m:\u001b[0m\u001b[1;32mreturn\u001b[0m\u001b[1;33m:\u001b[0m \u001b[0mshape\u001b[0m \u001b[1;33m=\u001b[0m \u001b[1;33m[\u001b[0m\u001b[0mn_samples\u001b[0m\u001b[1;33m]\u001b[0m\u001b[1;33m\u001b[0m\u001b[0m\n\u001b[0;32m    110\u001b[0m         \"\"\"\n\u001b[1;32m--> 111\u001b[1;33m         \u001b[1;32mreturn\u001b[0m \u001b[0mnp\u001b[0m\u001b[1;33m.\u001b[0m\u001b[0marray\u001b[0m\u001b[1;33m(\u001b[0m\u001b[1;33m[\u001b[0m\u001b[0mself\u001b[0m\u001b[1;33m.\u001b[0m\u001b[0mpredict_one\u001b[0m\u001b[1;33m(\u001b[0m\u001b[0mx\u001b[0m\u001b[1;33m)\u001b[0m \u001b[1;32mfor\u001b[0m \u001b[0mx\u001b[0m \u001b[1;32min\u001b[0m \u001b[0mX\u001b[0m\u001b[1;33m]\u001b[0m\u001b[1;33m)\u001b[0m\u001b[1;33m\u001b[0m\u001b[0m\n\u001b[0m",
      "\u001b[1;32m<ipython-input-2-7c84a60995bb>\u001b[0m in \u001b[0;36mpredict_one\u001b[1;34m(self, x)\u001b[0m\n\u001b[0;32m    101\u001b[0m         \u001b[1;32mwhile\u001b[0m \u001b[0mp\u001b[0m\u001b[1;33m.\u001b[0m\u001b[0mlabel\u001b[0m \u001b[1;32mis\u001b[0m \u001b[1;32mNone\u001b[0m\u001b[1;33m:\u001b[0m\u001b[1;33m\u001b[0m\u001b[0m\n\u001b[0;32m    102\u001b[0m             \u001b[0mprint\u001b[0m\u001b[1;33m(\u001b[0m\u001b[0mp\u001b[0m\u001b[1;33m.\u001b[0m\u001b[0mfeature\u001b[0m\u001b[1;33m)\u001b[0m\u001b[1;33m\u001b[0m\u001b[0m\n\u001b[1;32m--> 103\u001b[1;33m             \u001b[0mp\u001b[0m \u001b[1;33m=\u001b[0m \u001b[0mp\u001b[0m\u001b[1;33m.\u001b[0m\u001b[0mbranch\u001b[0m\u001b[1;33m[\u001b[0m\u001b[0mx\u001b[0m\u001b[1;33m[\u001b[0m\u001b[0mp\u001b[0m\u001b[1;33m.\u001b[0m\u001b[0mfeature\u001b[0m\u001b[1;33m]\u001b[0m\u001b[1;33m]\u001b[0m\u001b[1;33m\u001b[0m\u001b[0m\n\u001b[0m\u001b[0;32m    104\u001b[0m         \u001b[1;32mreturn\u001b[0m \u001b[0mp\u001b[0m\u001b[1;33m.\u001b[0m\u001b[0mlabel\u001b[0m\u001b[1;33m\u001b[0m\u001b[0m\n\u001b[0;32m    105\u001b[0m \u001b[1;33m\u001b[0m\u001b[0m\n",
      "\u001b[1;31mKeyError\u001b[0m: 0"
     ]
    }
   ],
   "source": [
    "y_pred=iv_clf.predict(X_test.values)\n",
    "print(accuracy_score(y_test, y_pred))\n",
    "print(recall_score(y_test, y_pred))\n",
    "print(precision_score(y_test, y_pred))\n",
    "print(confusion_matrix(y_test, y_pred,labels=[0,1]))"
   ]
  },
  {
   "cell_type": "code",
   "execution_count": 100,
   "metadata": {
    "collapsed": true
   },
   "outputs": [
    {
     "name": "stdout",
     "output_type": "stream",
     "text": [
      "------------ 0\n",
      "12\n",
      "6\n",
      "11\n",
      "1\n",
      "5\n",
      "------------ 1\n",
      "12\n",
      "7\n",
      "6\n",
      "10\n",
      "------------ 2\n",
      "12\n",
      "7\n",
      "6\n",
      "10\n",
      "------------ 3\n",
      "12\n",
      "7\n",
      "6\n",
      "11\n",
      "------------ 4\n",
      "12\n",
      "7\n",
      "6\n",
      "------------ 5\n",
      "12\n",
      "7\n",
      "6\n",
      "10\n",
      "11\n",
      "1\n",
      "0\n",
      "2\n",
      "3\n",
      "------------ 6\n",
      "12\n",
      "6\n",
      "11\n",
      "3\n",
      "0\n",
      "------------ 7\n",
      "12\n",
      "7\n",
      "6\n",
      "11\n",
      "------------ 8\n",
      "12\n",
      "7\n",
      "6\n",
      "------------ 9\n",
      "12\n",
      "11\n",
      "10\n",
      "------------ 10\n",
      "12\n",
      "6\n",
      "11\n",
      "8\n",
      "------------ 11\n",
      "12\n",
      "7\n",
      "6\n",
      "11\n",
      "9\n",
      "8\n",
      "10\n",
      "------------ 12\n",
      "12\n",
      "7\n",
      "6\n",
      "11\n",
      "------------ 13\n",
      "12\n",
      "7\n",
      "6\n",
      "11\n",
      "9\n",
      "------------ 14\n",
      "12\n",
      "7\n",
      "6\n",
      "11\n",
      "9\n",
      "8\n",
      "------------ 15\n",
      "12\n",
      "7\n",
      "6\n",
      "11\n",
      "1\n",
      "8\n",
      "------------ 16\n",
      "12\n",
      "7\n",
      "6\n",
      "------------ 17\n",
      "12\n",
      "7\n",
      "6\n",
      "8\n",
      "------------ 18\n",
      "12\n",
      "7\n",
      "6\n",
      "------------ 19\n",
      "12\n",
      "7\n",
      "6\n",
      "10\n",
      "11\n",
      "------------ 20\n",
      "12\n",
      "7\n",
      "6\n",
      "11\n",
      "------------ 21\n",
      "12\n",
      "7\n",
      "6\n",
      "10\n",
      "11\n",
      "0\n",
      "1\n"
     ]
    },
    {
     "ename": "KeyError",
     "evalue": "0",
     "output_type": "error",
     "traceback": [
      "\u001b[1;31m---------------------------------------------------------------------------\u001b[0m",
      "\u001b[1;31mKeyError\u001b[0m                                  Traceback (most recent call last)",
      "\u001b[1;32m<ipython-input-100-33c77ec1396f>\u001b[0m in \u001b[0;36m<module>\u001b[1;34m()\u001b[0m\n\u001b[0;32m      1\u001b[0m \u001b[1;32mfor\u001b[0m \u001b[0m_\u001b[0m \u001b[1;32min\u001b[0m \u001b[0mrange\u001b[0m\u001b[1;33m(\u001b[0m\u001b[0mX_test\u001b[0m\u001b[1;33m.\u001b[0m\u001b[0mshape\u001b[0m\u001b[1;33m[\u001b[0m\u001b[1;36m0\u001b[0m\u001b[1;33m]\u001b[0m\u001b[1;33m)\u001b[0m\u001b[1;33m:\u001b[0m\u001b[1;33m\u001b[0m\u001b[0m\n\u001b[0;32m      2\u001b[0m     \u001b[0mprint\u001b[0m\u001b[1;33m(\u001b[0m\u001b[1;34m'------------'\u001b[0m\u001b[1;33m,\u001b[0m\u001b[0m_\u001b[0m\u001b[1;33m)\u001b[0m\u001b[1;33m\u001b[0m\u001b[0m\n\u001b[1;32m----> 3\u001b[1;33m     \u001b[0miv_clf\u001b[0m\u001b[1;33m.\u001b[0m\u001b[0mpredict_one\u001b[0m\u001b[1;33m(\u001b[0m\u001b[0mX_test\u001b[0m\u001b[1;33m.\u001b[0m\u001b[0mvalues\u001b[0m\u001b[1;33m[\u001b[0m\u001b[0m_\u001b[0m\u001b[1;33m]\u001b[0m\u001b[1;33m)\u001b[0m\u001b[1;33m\u001b[0m\u001b[0m\n\u001b[0m",
      "\u001b[1;32m<ipython-input-95-7c84a60995bb>\u001b[0m in \u001b[0;36mpredict_one\u001b[1;34m(self, x)\u001b[0m\n\u001b[0;32m    101\u001b[0m         \u001b[1;32mwhile\u001b[0m \u001b[0mp\u001b[0m\u001b[1;33m.\u001b[0m\u001b[0mlabel\u001b[0m \u001b[1;32mis\u001b[0m \u001b[1;32mNone\u001b[0m\u001b[1;33m:\u001b[0m\u001b[1;33m\u001b[0m\u001b[0m\n\u001b[0;32m    102\u001b[0m             \u001b[0mprint\u001b[0m\u001b[1;33m(\u001b[0m\u001b[0mp\u001b[0m\u001b[1;33m.\u001b[0m\u001b[0mfeature\u001b[0m\u001b[1;33m)\u001b[0m\u001b[1;33m\u001b[0m\u001b[0m\n\u001b[1;32m--> 103\u001b[1;33m             \u001b[0mp\u001b[0m \u001b[1;33m=\u001b[0m \u001b[0mp\u001b[0m\u001b[1;33m.\u001b[0m\u001b[0mbranch\u001b[0m\u001b[1;33m[\u001b[0m\u001b[0mx\u001b[0m\u001b[1;33m[\u001b[0m\u001b[0mp\u001b[0m\u001b[1;33m.\u001b[0m\u001b[0mfeature\u001b[0m\u001b[1;33m]\u001b[0m\u001b[1;33m]\u001b[0m\u001b[1;33m\u001b[0m\u001b[0m\n\u001b[0m\u001b[0;32m    104\u001b[0m         \u001b[1;32mreturn\u001b[0m \u001b[0mp\u001b[0m\u001b[1;33m.\u001b[0m\u001b[0mlabel\u001b[0m\u001b[1;33m\u001b[0m\u001b[0m\n\u001b[0;32m    105\u001b[0m \u001b[1;33m\u001b[0m\u001b[0m\n",
      "\u001b[1;31mKeyError\u001b[0m: 0"
     ]
    }
   ],
   "source": [
    "for _ in range(X_test.shape[0]):\n",
    "    print('------------',_)\n",
    "    iv_clf.predict_one(X_test.values[_])"
   ]
  },
  {
   "cell_type": "code",
   "execution_count": 106,
   "metadata": {},
   "outputs": [
    {
     "name": "stdout",
     "output_type": "stream",
     "text": [
      "TreeNode(feature=12, iv=5.037030197406397, branch={1: TreeNode(feature=6, iv=6.637767416735521, branch={0: TreeNode(feature=11, iv=5.2281596608182, branch={1: TreeNode(feature=None, iv=None, branch=None, label=1), 2: TreeNode(feature=3, iv=2.1972245773362196, branch={0: TreeNode(feature=0, iv=0.0, branch={0: TreeNode(feature=None, iv=None, branch=None, label=1), 1: TreeNode(feature=None, iv=None, branch=None, label=0)}, label=None), 1: TreeNode(feature=None, iv=None, branch=None, label=1), 2: TreeNode(feature=None, iv=None, branch=None, label=1)}, label=None), 3: TreeNode(feature=1, iv=3.289196099636184, branch={0: TreeNode(feature=5, iv=1.9362939684855176, branch={0: TreeNode(feature=None, iv=None, branch=None, label=0), 1: TreeNode(feature=9, iv=2.0442680632985475, branch={1: TreeNode(feature=None, iv=None, branch=None, label=0), 2: TreeNode(feature=0, iv=0.6931471805599453, branch={0: TreeNode(feature=None, iv=None, branch=None, label=1), 1: TreeNode(feature=2, iv=0.0, branch={0: TreeNode(feature=3, iv=0.0, branch={0: TreeNode(feature=None, iv=None, branch=None, label=0), 1: TreeNode(feature=None, iv=None, branch=None, label=1)}, label=None)}, label=None)}, label=None), 3: TreeNode(feature=0, iv=0.6931471805599453, branch={0: TreeNode(feature=None, iv=None, branch=None, label=1), 1: TreeNode(feature=2, iv=0.0, branch={0: TreeNode(feature=3, iv=0.0, branch={1: TreeNode(feature=4, iv=0.0, branch={1: TreeNode(feature=7, iv=0.0, branch={1: TreeNode(feature=None, iv=None, branch=None, label=1), 3: TreeNode(feature=None, iv=None, branch=None, label=0)}, label=None)}, label=None)}, label=None)}, label=None)}, label=None), 4: TreeNode(feature=None, iv=None, branch=None, label=1)}, label=None), 2: TreeNode(feature=None, iv=None, branch=None, label=1)}, label=None), 1: TreeNode(feature=None, iv=None, branch=None, label=1), 3: TreeNode(feature=None, iv=None, branch=None, label=1)}, label=None), 4: TreeNode(feature=1, iv=4.74230931114554, branch={0: TreeNode(feature=5, iv=2.1972245773362196, branch={0: TreeNode(feature=None, iv=None, branch=None, label=0), 1: TreeNode(feature=None, iv=None, branch=None, label=0), 2: TreeNode(feature=8, iv=2.1972245773362196, branch={2: TreeNode(feature=0, iv=0.0, branch={1: TreeNode(feature=2, iv=0.0, branch={0: TreeNode(feature=3, iv=0.0, branch={0: TreeNode(feature=None, iv=None, branch=None, label=0), 1: TreeNode(feature=None, iv=None, branch=None, label=1)}, label=None)}, label=None)}, label=None), 4: TreeNode(feature=None, iv=None, branch=None, label=1), 5: TreeNode(feature=None, iv=None, branch=None, label=1)}, label=None)}, label=None), 1: TreeNode(feature=None, iv=None, branch=None, label=1), 2: TreeNode(feature=10, iv=5.63464397400338, branch={1: TreeNode(feature=None, iv=None, branch=None, label=1), 2: TreeNode(feature=None, iv=None, branch=None, label=1), 3: TreeNode(feature=0, iv=1.111641288952863, branch={0: TreeNode(feature=None, iv=None, branch=None, label=1), 1: TreeNode(feature=2, iv=0.8675632284814614, branch={0: TreeNode(feature=3, iv=0.0, branch={0: TreeNode(feature=None, iv=None, branch=None, label=0), 1: TreeNode(feature=None, iv=None, branch=None, label=1)}, label=None), 1: TreeNode(feature=None, iv=None, branch=None, label=1)}, label=None)}, label=None), 4: TreeNode(feature=None, iv=None, branch=None, label=1)}, label=None), 3: TreeNode(feature=None, iv=None, branch=None, label=1)}, label=None), 5: TreeNode(feature=None, iv=None, branch=None, label=1)}, label=None), 1: TreeNode(feature=11, iv=3.4891162925278305, branch={2: TreeNode(feature=None, iv=None, branch=None, label=0), 3: TreeNode(feature=9, iv=2.4260151319598084, branch={1: TreeNode(feature=None, iv=None, branch=None, label=0), 3: TreeNode(feature=0, iv=0.6931471805599453, branch={0: TreeNode(feature=None, iv=None, branch=None, label=0), 1: TreeNode(feature=1, iv=0.0, branch={0: TreeNode(feature=None, iv=None, branch=None, label=0), 3: TreeNode(feature=None, iv=None, branch=None, label=1)}, label=None)}, label=None), 4: TreeNode(feature=None, iv=None, branch=None, label=0)}, label=None), 4: TreeNode(feature=8, iv=1.3862943611198906, branch={2: TreeNode(feature=None, iv=None, branch=None, label=1), 3: TreeNode(feature=None, iv=None, branch=None, label=1), 4: TreeNode(feature=None, iv=None, branch=None, label=0), 5: TreeNode(feature=None, iv=None, branch=None, label=0)}, label=None), 5: TreeNode(feature=None, iv=None, branch=None, label=0)}, label=None), 2: TreeNode(feature=11, iv=3.121420818082813, branch={1: TreeNode(feature=None, iv=None, branch=None, label=0), 3: TreeNode(feature=None, iv=None, branch=None, label=0), 4: TreeNode(feature=None, iv=None, branch=None, label=0), 5: TreeNode(feature=None, iv=None, branch=None, label=1)}, label=None), 3: TreeNode(feature=None, iv=None, branch=None, label=0), 4: TreeNode(feature=None, iv=None, branch=None, label=1)}, label=None), 2: TreeNode(feature=7, iv=5.4528915082154885, branch={0: TreeNode(feature=None, iv=None, branch=None, label=1), 1: TreeNode(feature=10, iv=2.6593226977095163, branch={1: TreeNode(feature=None, iv=None, branch=None, label=0), 2: TreeNode(feature=None, iv=None, branch=None, label=0), 3: TreeNode(feature=0, iv=0.0, branch={1: TreeNode(feature=1, iv=0.0, branch={0: TreeNode(feature=None, iv=None, branch=None, label=0), 3: TreeNode(feature=None, iv=None, branch=None, label=1)}, label=None)}, label=None), 4: TreeNode(feature=0, iv=0.6931471805599453, branch={0: TreeNode(feature=None, iv=None, branch=None, label=0), 1: TreeNode(feature=1, iv=0.0, branch={0: TreeNode(feature=None, iv=None, branch=None, label=1), 1: TreeNode(feature=None, iv=None, branch=None, label=0)}, label=None)}, label=None)}, label=None), 2: TreeNode(feature=6, iv=5.139235313662214, branch={0: TreeNode(feature=11, iv=5.777077933004267, branch={1: TreeNode(feature=None, iv=None, branch=None, label=0), 2: TreeNode(feature=None, iv=None, branch=None, label=1), 3: TreeNode(feature=1, iv=2.5721146737487586, branch={0: TreeNode(feature=0, iv=0.0, branch={0: TreeNode(feature=2, iv=0.0, branch={0: TreeNode(feature=3, iv=0.0, branch={0: TreeNode(feature=None, iv=None, branch=None, label=1), 1: TreeNode(feature=None, iv=None, branch=None, label=0)}, label=None)}, label=None)}, label=None), 1: TreeNode(feature=None, iv=None, branch=None, label=1), 2: TreeNode(feature=8, iv=2.4260151319598084, branch={2: TreeNode(feature=0, iv=0.0, branch={0: TreeNode(feature=None, iv=None, branch=None, label=1), 1: TreeNode(feature=None, iv=None, branch=None, label=0)}, label=None), 3: TreeNode(feature=None, iv=None, branch=None, label=1), 5: TreeNode(feature=None, iv=None, branch=None, label=1)}, label=None), 3: TreeNode(feature=None, iv=None, branch=None, label=0)}, label=None), 4: TreeNode(feature=9, iv=5.1330270247244645, branch={1: TreeNode(feature=8, iv=8.382177364205143, branch={1: TreeNode(feature=None, iv=None, branch=None, label=1), 2: TreeNode(feature=10, iv=2.4260151319598084, branch={1: TreeNode(feature=1, iv=0.6931471805599453, branch={0: TreeNode(feature=None, iv=None, branch=None, label=1), 2: TreeNode(feature=0, iv=0.0, branch={0: TreeNode(feature=None, iv=None, branch=None, label=1), 1: TreeNode(feature=None, iv=None, branch=None, label=0)}, label=None)}, label=None), 2: TreeNode(feature=None, iv=None, branch=None, label=1), 3: TreeNode(feature=None, iv=None, branch=None, label=1)}, label=None), 3: TreeNode(feature=None, iv=None, branch=None, label=1), 4: TreeNode(feature=None, iv=None, branch=None, label=1), 5: TreeNode(feature=None, iv=None, branch=None, label=1)}, label=None), 2: TreeNode(feature=None, iv=None, branch=None, label=1), 3: TreeNode(feature=8, iv=1.7623293480422655, branch={2: TreeNode(feature=None, iv=None, branch=None, label=1), 3: TreeNode(feature=None, iv=None, branch=None, label=1), 4: TreeNode(feature=0, iv=0.0, branch={0: TreeNode(feature=None, iv=None, branch=None, label=1), 1: TreeNode(feature=None, iv=None, branch=None, label=0)}, label=None), 5: TreeNode(feature=None, iv=None, branch=None, label=0)}, label=None), 4: TreeNode(feature=None, iv=None, branch=None, label=1)}, label=None), 5: TreeNode(feature=None, iv=None, branch=None, label=1)}, label=None), 1: TreeNode(feature=9, iv=3.161778135891078, branch={1: TreeNode(feature=1, iv=2.113341389295896, branch={0: TreeNode(feature=None, iv=None, branch=None, label=0), 1: TreeNode(feature=0, iv=0.6931471805599453, branch={0: TreeNode(feature=2, iv=0.0, branch={0: TreeNode(feature=None, iv=None, branch=None, label=0), 1: TreeNode(feature=None, iv=None, branch=None, label=1)}, label=None), 1: TreeNode(feature=None, iv=None, branch=None, label=0)}, label=None), 2: TreeNode(feature=None, iv=None, branch=None, label=1), 3: TreeNode(feature=None, iv=None, branch=None, label=1)}, label=None), 2: TreeNode(feature=5, iv=2.1972245773362196, branch={0: TreeNode(feature=None, iv=None, branch=None, label=1), 1: TreeNode(feature=0, iv=0.0, branch={0: TreeNode(feature=None, iv=None, branch=None, label=1), 1: TreeNode(feature=None, iv=None, branch=None, label=0)}, label=None), 2: TreeNode(feature=None, iv=None, branch=None, label=1)}, label=None), 3: TreeNode(feature=None, iv=None, branch=None, label=0), 4: TreeNode(feature=None, iv=None, branch=None, label=0)}, label=None), 2: TreeNode(feature=8, iv=2.0442680632985475, branch={2: TreeNode(feature=None, iv=None, branch=None, label=1), 3: TreeNode(feature=None, iv=None, branch=None, label=0), 5: TreeNode(feature=10, iv=1.2130075659799042, branch={1: TreeNode(feature=0, iv=0.6931471805599453, branch={0: TreeNode(feature=1, iv=0.0, branch={0: TreeNode(feature=2, iv=0.0, branch={0: TreeNode(feature=3, iv=0.0, branch={1: TreeNode(feature=4, iv=0.0, branch={0: TreeNode(feature=None, iv=None, branch=None, label=1), 1: TreeNode(feature=None, iv=None, branch=None, label=0)}, label=None)}, label=None)}, label=None)}, label=None), 1: TreeNode(feature=None, iv=None, branch=None, label=0)}, label=None), 2: TreeNode(feature=None, iv=None, branch=None, label=0), 3: TreeNode(feature=0, iv=0.0, branch={0: TreeNode(feature=1, iv=0.0, branch={0: TreeNode(feature=None, iv=None, branch=None, label=0), 3: TreeNode(feature=None, iv=None, branch=None, label=1)}, label=None)}, label=None)}, label=None)}, label=None), 3: TreeNode(feature=0, iv=0.6931471805599453, branch={0: TreeNode(feature=None, iv=None, branch=None, label=0), 1: TreeNode(feature=1, iv=0.0, branch={0: TreeNode(feature=None, iv=None, branch=None, label=0), 2: TreeNode(feature=None, iv=None, branch=None, label=1)}, label=None)}, label=None), 4: TreeNode(feature=None, iv=None, branch=None, label=1)}, label=None), 3: TreeNode(feature=6, iv=3.4409490728199454, branch={0: TreeNode(feature=10, iv=4.42664898409838, branch={1: TreeNode(feature=1, iv=0.6931471805599453, branch={1: TreeNode(feature=None, iv=None, branch=None, label=0), 2: TreeNode(feature=None, iv=None, branch=None, label=1), 3: TreeNode(feature=None, iv=None, branch=None, label=0)}, label=None), 2: TreeNode(feature=11, iv=2.6287476860138907, branch={2: TreeNode(feature=None, iv=None, branch=None, label=0), 3: TreeNode(feature=0, iv=0.0, branch={1: TreeNode(feature=1, iv=0.0, branch={1: TreeNode(feature=None, iv=None, branch=None, label=0), 2: TreeNode(feature=None, iv=None, branch=None, label=1)}, label=None)}, label=None), 4: TreeNode(feature=1, iv=0.8675632284814614, branch={0: TreeNode(feature=0, iv=0.0, branch={1: TreeNode(feature=2, iv=0.0, branch={0: TreeNode(feature=3, iv=0.0, branch={0: TreeNode(feature=None, iv=None, branch=None, label=0), 1: TreeNode(feature=None, iv=None, branch=None, label=1)}, label=None)}, label=None)}, label=None), 1: TreeNode(feature=None, iv=None, branch=None, label=1)}, label=None), 5: TreeNode(feature=None, iv=None, branch=None, label=0)}, label=None), 3: TreeNode(feature=8, iv=4.451082166937572, branch={1: TreeNode(feature=None, iv=None, branch=None, label=0), 2: TreeNode(feature=None, iv=None, branch=None, label=0), 3: TreeNode(feature=1, iv=2.1972245773362196, branch={0: TreeNode(feature=5, iv=0.6931471805599453, branch={0: TreeNode(feature=None, iv=None, branch=None, label=0), 2: TreeNode(feature=0, iv=0.0, branch={1: TreeNode(feature=2, iv=0.0, branch={0: TreeNode(feature=3, iv=0.0, branch={0: TreeNode(feature=None, iv=None, branch=None, label=1), 1: TreeNode(feature=None, iv=None, branch=None, label=0)}, label=None)}, label=None)}, label=None)}, label=None), 2: TreeNode(feature=None, iv=None, branch=None, label=1), 3: TreeNode(feature=None, iv=None, branch=None, label=1)}, label=None), 4: TreeNode(feature=None, iv=None, branch=None, label=0)}, label=None), 4: TreeNode(feature=None, iv=None, branch=None, label=1), 5: TreeNode(feature=None, iv=None, branch=None, label=0)}, label=None), 1: TreeNode(feature=11, iv=6.0865943778583125, branch={1: TreeNode(feature=None, iv=None, branch=None, label=0), 2: TreeNode(feature=8, iv=2.1972245773362196, branch={3: TreeNode(feature=None, iv=None, branch=None, label=0), 4: TreeNode(feature=None, iv=None, branch=None, label=0), 5: TreeNode(feature=0, iv=0.0, branch={1: TreeNode(feature=1, iv=0.0, branch={0: TreeNode(feature=None, iv=None, branch=None, label=1), 2: TreeNode(feature=None, iv=None, branch=None, label=0)}, label=None)}, label=None)}, label=None), 3: TreeNode(feature=None, iv=None, branch=None, label=0), 4: TreeNode(feature=8, iv=2.1133413892958957, branch={2: TreeNode(feature=None, iv=None, branch=None, label=0), 3: TreeNode(feature=0, iv=0.0, branch={1: TreeNode(feature=1, iv=0.0, branch={0: TreeNode(feature=None, iv=None, branch=None, label=0), 2: TreeNode(feature=None, iv=None, branch=None, label=1)}, label=None)}, label=None), 4: TreeNode(feature=None, iv=None, branch=None, label=0), 5: TreeNode(feature=None, iv=None, branch=None, label=1)}, label=None), 5: TreeNode(feature=None, iv=None, branch=None, label=0)}, label=None), 2: TreeNode(feature=None, iv=None, branch=None, label=0), 3: TreeNode(feature=None, iv=None, branch=None, label=0), 4: TreeNode(feature=0, iv=0.0, branch={1: TreeNode(feature=1, iv=0.0, branch={0: TreeNode(feature=None, iv=None, branch=None, label=0), 1: TreeNode(feature=None, iv=None, branch=None, label=1)}, label=None)}, label=None)}, label=None)}, label=None), 3: TreeNode(feature=11, iv=3.693620517449405, branch={2: TreeNode(feature=3, iv=2.1972245773362196, branch={0: TreeNode(feature=None, iv=None, branch=None, label=0), 1: TreeNode(feature=0, iv=0.0, branch={0: TreeNode(feature=None, iv=None, branch=None, label=1), 1: TreeNode(feature=None, iv=None, branch=None, label=0)}, label=None), 2: TreeNode(feature=None, iv=None, branch=None, label=0)}, label=None), 3: TreeNode(feature=10, iv=4.994000833869174, branch={1: TreeNode(feature=None, iv=None, branch=None, label=0), 2: TreeNode(feature=None, iv=None, branch=None, label=0), 3: TreeNode(feature=0, iv=0.6931471805599453, branch={0: TreeNode(feature=3, iv=0.6931471805599453, branch={0: TreeNode(feature=1, iv=0.0, branch={0: TreeNode(feature=None, iv=None, branch=None, label=0), 2: TreeNode(feature=None, iv=None, branch=None, label=1)}, label=None), 1: TreeNode(feature=None, iv=None, branch=None, label=1)}, label=None), 1: TreeNode(feature=None, iv=None, branch=None, label=0)}, label=None), 4: TreeNode(feature=None, iv=None, branch=None, label=0)}, label=None), 4: TreeNode(feature=10, iv=7.0695481137799385, branch={1: TreeNode(feature=None, iv=None, branch=None, label=1), 2: TreeNode(feature=6, iv=3.160918792269914, branch={0: TreeNode(feature=8, iv=4.511971173782021, branch={2: TreeNode(feature=None, iv=None, branch=None, label=1), 3: TreeNode(feature=None, iv=None, branch=None, label=1), 4: TreeNode(feature=None, iv=None, branch=None, label=1), 5: TreeNode(feature=0, iv=0.0, branch={0: TreeNode(feature=None, iv=None, branch=None, label=0), 1: TreeNode(feature=None, iv=None, branch=None, label=1)}, label=None)}, label=None), 1: TreeNode(feature=None, iv=None, branch=None, label=1), 2: TreeNode(feature=None, iv=None, branch=None, label=0), 3: TreeNode(feature=None, iv=None, branch=None, label=0)}, label=None), 3: TreeNode(feature=None, iv=None, branch=None, label=0), 4: TreeNode(feature=None, iv=None, branch=None, label=1), 5: TreeNode(feature=None, iv=None, branch=None, label=1)}, label=None), 5: TreeNode(feature=None, iv=None, branch=None, label=1)}, label=None), 4: TreeNode(feature=6, iv=1.3862943611198906, branch={0: TreeNode(feature=None, iv=None, branch=None, label=1), 1: TreeNode(feature=None, iv=None, branch=None, label=1), 2: TreeNode(feature=None, iv=None, branch=None, label=0), 3: TreeNode(feature=None, iv=None, branch=None, label=0)}, label=None), 5: TreeNode(feature=None, iv=None, branch=None, label=1)}, label=None)\n"
     ]
    }
   ],
   "source": [
    "print(iv_clf.root)"
   ]
  },
  {
   "cell_type": "code",
   "execution_count": 104,
   "metadata": {},
   "outputs": [
    {
     "data": {
      "text/plain": [
       "array([[1, 0, 0, 1, 0, 2, 0, 2, 2, 1, 3, 5, 2],\n",
       "       [1, 0, 0, 1, 0, 1, 0, 3, 1, 3, 2, 3, 2]], dtype=int64)"
      ]
     },
     "execution_count": 104,
     "metadata": {},
     "output_type": "execute_result"
    }
   ],
   "source": [
    "X_test.values[20:22]"
   ]
  },
  {
   "cell_type": "code",
   "execution_count": 3,
   "metadata": {
    "collapsed": true
   },
   "outputs": [
    {
     "name": "stderr",
     "output_type": "stream",
     "text": [
      "E:\\anaconda\\install\\lib\\site-packages\\ipykernel_launcher.py:5: SettingWithCopyWarning: \n",
      "A value is trying to be set on a copy of a slice from a DataFrame\n",
      "\n",
      "See the caveats in the documentation: http://pandas.pydata.org/pandas-docs/stable/indexing.html#indexing-view-versus-copy\n",
      "  \"\"\"\n",
      "E:\\anaconda\\install\\lib\\site-packages\\ipykernel_launcher.py:6: SettingWithCopyWarning: \n",
      "A value is trying to be set on a copy of a slice from a DataFrame\n",
      "\n",
      "See the caveats in the documentation: http://pandas.pydata.org/pandas-docs/stable/indexing.html#indexing-view-versus-copy\n",
      "  \n",
      "E:\\anaconda\\install\\lib\\site-packages\\ipykernel_launcher.py:7: SettingWithCopyWarning: \n",
      "A value is trying to be set on a copy of a slice from a DataFrame\n",
      "\n",
      "See the caveats in the documentation: http://pandas.pydata.org/pandas-docs/stable/indexing.html#indexing-view-versus-copy\n",
      "  import sys\n",
      "E:\\anaconda\\install\\lib\\site-packages\\ipykernel_launcher.py:8: SettingWithCopyWarning: \n",
      "A value is trying to be set on a copy of a slice from a DataFrame\n",
      "\n",
      "See the caveats in the documentation: http://pandas.pydata.org/pandas-docs/stable/indexing.html#indexing-view-versus-copy\n",
      "  \n",
      "E:\\anaconda\\install\\lib\\site-packages\\ipykernel_launcher.py:9: SettingWithCopyWarning: \n",
      "A value is trying to be set on a copy of a slice from a DataFrame\n",
      "\n",
      "See the caveats in the documentation: http://pandas.pydata.org/pandas-docs/stable/indexing.html#indexing-view-versus-copy\n",
      "  if __name__ == '__main__':\n",
      "E:\\anaconda\\install\\lib\\site-packages\\ipykernel_launcher.py:20: SettingWithCopyWarning: \n",
      "A value is trying to be set on a copy of a slice from a DataFrame\n",
      "\n",
      "See the caveats in the documentation: http://pandas.pydata.org/pandas-docs/stable/indexing.html#indexing-view-versus-copy\n"
     ]
    },
    {
     "name": "stdout",
     "output_type": "stream",
     "text": [
      "trestbps 21 200 94\n",
      "-1 115 1\n",
      "115 136 2\n",
      "136 157 3\n",
      "157 178 4\n",
      "178\n",
      "thalach 26 202 71\n",
      "-1 97 1\n"
     ]
    },
    {
     "name": "stderr",
     "output_type": "stream",
     "text": [
      "E:\\anaconda\\install\\lib\\site-packages\\ipykernel_launcher.py:23: SettingWithCopyWarning: \n",
      "A value is trying to be set on a copy of a slice from a DataFrame\n",
      "\n",
      "See the caveats in the documentation: http://pandas.pydata.org/pandas-docs/stable/indexing.html#indexing-view-versus-copy\n"
     ]
    },
    {
     "name": "stdout",
     "output_type": "stream",
     "text": [
      "97 123 2\n",
      "123 149 3\n",
      "149 175 4\n",
      "175\n",
      "chol 87 564 126\n",
      "-1 213 1\n",
      "213 300 2\n",
      "300 387 3\n",
      "387 474 4\n",
      "474\n"
     ]
    },
    {
     "name": "stderr",
     "output_type": "stream",
     "text": [
      "E:\\anaconda\\install\\lib\\site-packages\\ipykernel_launcher.py:25: SettingWithCopyWarning: \n",
      "A value is trying to be set on a copy of a slice from a DataFrame\n",
      "\n",
      "See the caveats in the documentation: http://pandas.pydata.org/pandas-docs/stable/indexing.html#indexing-view-versus-copy\n",
      "E:\\anaconda\\install\\lib\\site-packages\\ipykernel_launcher.py:26: SettingWithCopyWarning: \n",
      "A value is trying to be set on a copy of a slice from a DataFrame\n",
      "\n",
      "See the caveats in the documentation: http://pandas.pydata.org/pandas-docs/stable/indexing.html#indexing-view-versus-copy\n",
      "E:\\anaconda\\install\\lib\\site-packages\\ipykernel_launcher.py:27: SettingWithCopyWarning: \n",
      "A value is trying to be set on a copy of a slice from a DataFrame\n",
      "\n",
      "See the caveats in the documentation: http://pandas.pydata.org/pandas-docs/stable/indexing.html#indexing-view-versus-copy\n",
      "E:\\anaconda\\install\\lib\\site-packages\\ipykernel_launcher.py:28: SettingWithCopyWarning: \n",
      "A value is trying to be set on a copy of a slice from a DataFrame\n",
      "\n",
      "See the caveats in the documentation: http://pandas.pydata.org/pandas-docs/stable/indexing.html#indexing-view-versus-copy\n"
     ]
    }
   ],
   "source": [
    "df_heart_disease=pd.read_csv(\"F:\\\\YIELD\\\\heart disease predicate\\\\heart.csv\")\n",
    "df_heart_disease['age_bin']=5\n",
    "df_heart_disease['oldpeak_bin']=5\n",
    "\n",
    "df_heart_disease['age_bin'][df_heart_disease['age']<=40]=1\n",
    "df_heart_disease['age_bin'][(df_heart_disease['age']>40) & (df_heart_disease['age']<=50)]=2\n",
    "df_heart_disease['age_bin'][(df_heart_disease['age']>50) & (df_heart_disease['age']<=55)]=3\n",
    "df_heart_disease['age_bin'][(df_heart_disease['age']>55) & (df_heart_disease['age']<=60)]=4\n",
    "df_heart_disease['age_bin'][(df_heart_disease['age']>60)]=5\n",
    "\n",
    "for col in ['trestbps','thalach','chol']:\n",
    "    df_heart_disease[col+'_bin']=5\n",
    "    min_=int(df_heart_disease[col].min())\n",
    "    max_=int(df_heart_disease[col].max())\n",
    "    range_=int(((max_-min_)/5))\n",
    "    low_bound=-1\n",
    "    print(col,range_,max_,min_)\n",
    "    for bin_index,_ in zip(range(1,5),range(min_+range_,max_+1,range_)):\n",
    "        print(low_bound,_,bin_index)\n",
    "        df_heart_disease[col+'_bin'][(df_heart_disease[col]>low_bound) & (df_heart_disease[col]<=_)]=bin_index\n",
    "        low_bound=_\n",
    "    print(low_bound)\n",
    "    df_heart_disease[col+'_bin'][(df_heart_disease[col]>low_bound)]=5\n",
    "    \n",
    "df_heart_disease['oldpeak_bin'][df_heart_disease['oldpeak']<=0.1]=1\n",
    "df_heart_disease['oldpeak_bin'][(df_heart_disease['oldpeak']>0.1) & (df_heart_disease['oldpeak']<=1)]=2\n",
    "df_heart_disease['oldpeak_bin'][(df_heart_disease['oldpeak']>1) & (df_heart_disease['oldpeak']<=2)]=3\n",
    "df_heart_disease['oldpeak_bin'][(df_heart_disease['oldpeak']>2)]=4\n"
   ]
  },
  {
   "cell_type": "code",
   "execution_count": 4,
   "metadata": {},
   "outputs": [],
   "source": [
    "df_heart_disease.drop(['age','trestbps','thalach','chol','oldpeak'],axis=1,inplace=True)"
   ]
  },
  {
   "cell_type": "code",
   "execution_count": 5,
   "metadata": {},
   "outputs": [],
   "source": [
    "label_array=df_heart_disease['target']\n",
    "columns_list=list(df_heart_disease.columns)\n",
    "columns_list.remove('target')\n",
    "feature_data=df_heart_disease[columns_list]"
   ]
  },
  {
   "cell_type": "code",
   "execution_count": 6,
   "metadata": {},
   "outputs": [
    {
     "name": "stdout",
     "output_type": "stream",
     "text": [
      "<class 'pandas.core.frame.DataFrame'>\n",
      "RangeIndex: 303 entries, 0 to 302\n",
      "Data columns (total 13 columns):\n",
      "sex             303 non-null int64\n",
      "cp              303 non-null int64\n",
      "fbs             303 non-null int64\n",
      "restecg         303 non-null int64\n",
      "exang           303 non-null int64\n",
      "slope           303 non-null int64\n",
      "ca              303 non-null int64\n",
      "thal            303 non-null int64\n",
      "age_bin         303 non-null int64\n",
      "oldpeak_bin     303 non-null int64\n",
      "trestbps_bin    303 non-null int64\n",
      "thalach_bin     303 non-null int64\n",
      "chol_bin        303 non-null int64\n",
      "dtypes: int64(13)\n",
      "memory usage: 30.9 KB\n"
     ]
    },
    {
     "data": {
      "text/plain": [
       "(303,)"
      ]
     },
     "execution_count": 6,
     "metadata": {},
     "output_type": "execute_result"
    }
   ],
   "source": [
    "feature_data.info()\n",
    "label_array.shape"
   ]
  },
  {
   "cell_type": "code",
   "execution_count": null,
   "metadata": {},
   "outputs": [],
   "source": [
    "import matplotlib.pyplot as plt"
   ]
  },
  {
   "cell_type": "code",
   "execution_count": null,
   "metadata": {},
   "outputs": [],
   "source": [
    "decisionNode=dict(boxstyle='sawtooth',fc='0.8')\n",
    "leafNode=dict(boxstyle='round4',fc='0.8')\n",
    "arrow_args=dict(arrowstyle=\"<-\")"
   ]
  },
  {
   "cell_type": "code",
   "execution_count": null,
   "metadata": {},
   "outputs": [],
   "source": [
    "def plotNode(nodeTxt,centerPt,parentPt,nodeType):\n",
    "    createPlot.ax1.annotate(nodeTxt,xy=parentPt,\n",
    "                             xycoords='axes fraction',xytext=centerPt,textcoords='axes fraction',\n",
    "                             va='center',ha='center',bbox=nodeType,arrowprops=arrow_args)\n",
    "def createPlot():\n",
    "    fig=plt.figure(1,facecolor='white')\n",
    "    fig.clf()\n",
    "    createPlot.ax1=plt.subplot(111,frameon=False)\n",
    "    plotNode('non-leaf node',(-0.5,0.1),(0.1,0.5),decisionNode)\n",
    "    plotNode('leaf node',(0.8,0.5),(0.3,0.8),leafNode)\n",
    "    plt.show()\n",
    "\n",
    "    \n",
    "fig=plt.figure(1,facecolor='white')\n",
    "fig.clf()\n",
    "createPlot.ax1=plt.subplot(111,frameon=False)\n",
    "def traverse(node_head,x1,y1,x2,y2,level_node_num):\n",
    "    if node_head.label==None:\n",
    "        for index,machine in zip(range(1,len(node_head.branch)+1),node_head.branch):\n",
    "            \n",
    "            traverse(node_head.branch[machine],x1+(0.2*index),y1+0.2,x2+(0.2*index),y2+0.2,level_node_num=len(node_head.branch))\n",
    "            plotNode('non-leaf node',(-0.5,0.1),(0.1,0.5),decisionNode)\n",
    "    else:\n",
    "        plotNode('leaf node',(x1,y1),(x2,y2+0.2),leafNode,0)\n",
    "plt.show()\n",
    "    \n",
    "        \n",
    "# def plotMidText(parent_postion_x2,parent_postion_y2,branch_dict,txtString):\n",
    "#     xMid=(parentPt[0])"
   ]
  },
  {
   "cell_type": "code",
   "execution_count": null,
   "metadata": {},
   "outputs": [],
   "source": [
    "createPlot()"
   ]
  },
  {
   "cell_type": "code",
   "execution_count": null,
   "metadata": {},
   "outputs": [],
   "source": [
    "p=iv_clf.root\n",
    "fig=plt.figure(1,facecolor='white')\n",
    "fig.clf()\n",
    "createPlot.ax1=plt.subplot(111,frameon=False)\n",
    "\n",
    "root_postion_x1=0\n",
    "root_postion_y1=1\n",
    "root_postion_x2=0\n",
    "root_postion_y2=1\n",
    "plotNode(columns_list[p.feature],(root_postion_x1,root_postion_y1),(root_postion_x2,root_postion_y2),decisionNode)\n",
    "while p.label is None:\n",
    "    plotNode(columns_list[p.feature],(0,1),(0,1),decisionNode)    \n",
    "    p = p.branch[x[p.feature]]\n",
    "plt.show()"
   ]
  },
  {
   "cell_type": "code",
   "execution_count": null,
   "metadata": {},
   "outputs": [],
   "source": [
    "import plotly.plotly as py\n",
    "import plotly.graph_objs as go\n",
    "\n",
    "import jgraph\n",
    "from jgraph import *\n",
    "jgraph.__version__"
   ]
  },
  {
   "cell_type": "code",
   "execution_count": null,
   "metadata": {},
   "outputs": [],
   "source": []
  },
  {
   "cell_type": "code",
   "execution_count": null,
   "metadata": {},
   "outputs": [],
   "source": []
  },
  {
   "cell_type": "code",
   "execution_count": null,
   "metadata": {},
   "outputs": [],
   "source": []
  },
  {
   "cell_type": "code",
   "execution_count": null,
   "metadata": {},
   "outputs": [],
   "source": []
  }
 ],
 "metadata": {
  "kernelspec": {
   "display_name": "Python 3",
   "language": "python",
   "name": "python3"
  },
  "language_info": {
   "codemirror_mode": {
    "name": "ipython",
    "version": 3
   },
   "file_extension": ".py",
   "mimetype": "text/x-python",
   "name": "python",
   "nbconvert_exporter": "python",
   "pygments_lexer": "ipython3",
   "version": "3.6.6"
  }
 },
 "nbformat": 4,
 "nbformat_minor": 2
}
