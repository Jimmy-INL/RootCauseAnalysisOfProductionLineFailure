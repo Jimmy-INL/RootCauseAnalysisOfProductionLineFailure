{
 "cells": [
  {
   "cell_type": "code",
   "execution_count": 14,
   "metadata": {},
   "outputs": [],
   "source": [
    "import pandas as pd"
   ]
  },
  {
   "cell_type": "code",
   "execution_count": 15,
   "metadata": {},
   "outputs": [
    {
     "name": "stdout",
     "output_type": "stream",
     "text": [
      "['600', '610', '620', '640', '690', '710', '700', '730', '720', '800', '820', '810', '830', '940', '910', '900', '920', '1000', '1020', '1010', '1030', '1130', '1110', '1100', '1120', 'SHEET_ID']\n"
     ]
    }
   ],
   "source": [
    "df_equip_history=pd.read_csv(\"F:\\\\YIELD\\\\YoudaOptronics\\\\Archive(1)\\\\equip_history.csv\",engine=\"python\",sep=',',encoding='GBK')\n",
    "\n",
    "df_equip_history['SHEET_ID']=df_equip_history['锘縎HEET_ID'] # modify unidentifiable columns \n",
    "df_equip_history.drop(columns=['锘縎HEET_ID'],inplace=True)\n",
    "df_equip_history.fillna(-1,inplace=True)\n",
    "\n",
    "col_list=[] #Found all productive station & machine under it .\n",
    "for col in list(df_equip_history.columns):\n",
    "    if 'R' not in col:\n",
    "        col_list.append(col)\n",
    "print(col_list)\n",
    "\n",
    "\n",
    "df_measure_labels=pd.read_csv(\"F:\\\\YIELD\\\\YoudaOptronics\\\\Archive(1)\\\\measure_labels.csv\",engine=\"python\",sep=',',encoding='GBK')\n",
    "df_measure_labels.dropna(inplace=True)"
   ]
  },
  {
   "cell_type": "code",
   "execution_count": 16,
   "metadata": {
    "collapsed": true
   },
   "outputs": [
    {
     "name": "stdout",
     "output_type": "stream",
     "text": [
      "<class 'pandas.core.frame.DataFrame'>\n",
      "Int64Index: 34810 entries, 0 to 34809\n",
      "Data columns (total 27 columns):\n",
      "600         34810 non-null object\n",
      "610         34810 non-null object\n",
      "620         34810 non-null object\n",
      "640         34810 non-null object\n",
      "690         34810 non-null object\n",
      "710         34810 non-null object\n",
      "700         34810 non-null object\n",
      "730         34810 non-null object\n",
      "720         34810 non-null object\n",
      "800         34810 non-null object\n",
      "820         34810 non-null object\n",
      "810         34810 non-null object\n",
      "830         34810 non-null object\n",
      "940         34810 non-null object\n",
      "910         34810 non-null object\n",
      "900         34810 non-null object\n",
      "920         34810 non-null object\n",
      "1000        34810 non-null object\n",
      "1020        34810 non-null object\n",
      "1010        34810 non-null object\n",
      "1030        34810 non-null object\n",
      "1130        34810 non-null object\n",
      "1110        34810 non-null object\n",
      "1100        34810 non-null object\n",
      "1120        34810 non-null object\n",
      "SHEET_ID    34810 non-null object\n",
      "Y           34810 non-null float64\n",
      "dtypes: float64(1), object(26)\n",
      "memory usage: 7.4+ MB\n",
      "None\n",
      "['600', '610', '620', '640', '690', '710', '700', '730', '720', '800', '820', '810', '830', '940', '910', '900', '920', '1000', '1020', '1010', '1030', '1130', '1110', '1100', '1120']\n"
     ]
    }
   ],
   "source": [
    "df_temp=pd.merge(df_equip_history[col_list],df_measure_labels[['SHEET_ID','Y']],how='inner',on='SHEET_ID')\n",
    "print(df_temp.info())\n",
    "col_list.remove('SHEET_ID')\n",
    "print(col_list)"
   ]
  },
  {
   "cell_type": "code",
   "execution_count": 39,
   "metadata": {
    "collapsed": true
   },
   "outputs": [
    {
     "name": "stderr",
     "output_type": "stream",
     "text": [
      "D:\\Anaconda3\\lib\\site-packages\\ipykernel_launcher.py:8: SettingWithCopyWarning: \n",
      "A value is trying to be set on a copy of a slice from a DataFrame\n",
      "\n",
      "See the caveats in the documentation: http://pandas.pydata.org/pandas-docs/stable/indexing.html#indexing-view-versus-copy\n",
      "  \n"
     ]
    },
    {
     "name": "stdout",
     "output_type": "stream",
     "text": [
      "<class 'pandas.core.frame.DataFrame'>\n",
      "Int64Index: 34810 entries, 0 to 34809\n",
      "Data columns (total 72 columns):\n",
      "SHEET_ID     34810 non-null object\n",
      "600_EX6      34810 non-null int64\n",
      "600_EX1      34810 non-null int64\n",
      "610_NO1      34810 non-null int64\n",
      "610_-1       34810 non-null int64\n",
      "620_CP18     34810 non-null int64\n",
      "620_CP78     34810 non-null int64\n",
      "640_VD1      34810 non-null int64\n",
      "640_VD8      34810 non-null int64\n",
      "690_PI22     34810 non-null int64\n",
      "690_PI12     34810 non-null int64\n",
      "690_TO11     34810 non-null int64\n",
      "690_TO31     34810 non-null int64\n",
      "690_LA21     34810 non-null int64\n",
      "690_TO21     34810 non-null int64\n",
      "690_LA11     34810 non-null int64\n",
      "710_EX8      34810 non-null int64\n",
      "710_EX7      34810 non-null int64\n",
      "700_PS12     34810 non-null int64\n",
      "700_-1       34810 non-null int64\n",
      "730_TO31     34810 non-null int64\n",
      "730_TO21     34810 non-null int64\n",
      "730_TO11     34810 non-null int64\n",
      "720_MA1      34810 non-null int64\n",
      "800_VD1      34810 non-null int64\n",
      "800_VD8      34810 non-null int64\n",
      "820_CPA      34810 non-null int64\n",
      "820_CPB      34810 non-null int64\n",
      "810_EX9      34810 non-null int64\n",
      "810_EXA      34810 non-null int64\n",
      "810_EX7      34810 non-null int64\n",
      "830_TO4      34810 non-null int64\n",
      "830_TO3      34810 non-null int64\n",
      "830_TO2      34810 non-null int64\n",
      "830_-1       34810 non-null int64\n",
      "940_NM1      34810 non-null int64\n",
      "940_NI2      34810 non-null int64\n",
      "940_NI1      34810 non-null int64\n",
      "940_-1       34810 non-null int64\n",
      "910_EX7      34810 non-null int64\n",
      "910_EXA      34810 non-null int64\n",
      "900_PI1      34810 non-null int64\n",
      "900_PI2      34810 non-null int64\n",
      "900_-1       34810 non-null int64\n",
      "920_TO2      34810 non-null int64\n",
      "920_TO1      34810 non-null int64\n",
      "1000_VD10    34810 non-null int64\n",
      "1000_VD80    34810 non-null int64\n",
      "1020_CPB8    34810 non-null int64\n",
      "1020_CPA8    34810 non-null int64\n",
      "1020_CP98    34810 non-null int64\n",
      "1020_-1      34810 non-null int64\n",
      "1010_EX91    34810 non-null int64\n",
      "1010_EXA1    34810 non-null int64\n",
      "1030_TO41    34810 non-null int64\n",
      "1030_TO21    34810 non-null int64\n",
      "1030_TO31    34810 non-null int64\n",
      "1130_NI11    34810 non-null int64\n",
      "1130_NM11    34810 non-null int64\n",
      "1130_NI21    34810 non-null int64\n",
      "1130_-1      34810 non-null int64\n",
      "1110_EX23    34810 non-null int64\n",
      "1110_EX91    34810 non-null int64\n",
      "1110_EX51    34810 non-null int64\n",
      "1110_EX33    34810 non-null int64\n",
      "1100_PI12    34810 non-null int64\n",
      "1100_PI22    34810 non-null int64\n",
      "1100_PI21    34810 non-null int64\n",
      "1100_-1      34810 non-null int64\n",
      "1120_TO22    34810 non-null int64\n",
      "1120_TO12    34810 non-null int64\n",
      "label        34810 non-null int64\n",
      "dtypes: int64(71), object(1)\n",
      "memory usage: 19.4+ MB\n"
     ]
    },
    {
     "name": "stderr",
     "output_type": "stream",
     "text": [
      "D:\\Anaconda3\\lib\\site-packages\\ipykernel_launcher.py:11: SettingWithCopyWarning: \n",
      "A value is trying to be set on a copy of a slice from a DataFrame\n",
      "\n",
      "See the caveats in the documentation: http://pandas.pydata.org/pandas-docs/stable/indexing.html#indexing-view-versus-copy\n",
      "  # This is added back by InteractiveShellApp.init_path()\n"
     ]
    }
   ],
   "source": [
    "df_station_machine_in_out=df_temp[['SHEET_ID','Y']].copy()\n",
    "station_machine_list=[]\n",
    "for col in col_list:\n",
    "    for machine in df_temp[col].unique():\n",
    "        sta_mach_col=str(col)+'_'+str(machine)\n",
    "        station_machine_list.append(sta_mach_col)\n",
    "        df_station_machine_in_out[sta_mach_col]=0\n",
    "        df_station_machine_in_out[sta_mach_col][df_temp[col]==machine]=1\n",
    "\n",
    "df_station_machine_in_out['label']=0\n",
    "df_station_machine_in_out['label'][(df_station_machine_in_out['Y']>=1)|(df_station_machine_in_out['Y']<=-1)]=1\n",
    "df_station_machine_in_out.drop(columns='Y',inplace=True)\n",
    "df_station_machine_in_out.info()"
   ]
  },
  {
   "cell_type": "code",
   "execution_count": 46,
   "metadata": {},
   "outputs": [
    {
     "name": "stdout",
     "output_type": "stream",
     "text": [
      "<class 'pandas.core.frame.DataFrame'>\n",
      "Int64Index: 966 entries, 395 to 34774\n",
      "Data columns (total 72 columns):\n",
      "SHEET_ID     966 non-null object\n",
      "600_EX6      966 non-null int64\n",
      "600_EX1      966 non-null int64\n",
      "610_NO1      966 non-null int64\n",
      "610_-1       966 non-null int64\n",
      "620_CP18     966 non-null int64\n",
      "620_CP78     966 non-null int64\n",
      "640_VD1      966 non-null int64\n",
      "640_VD8      966 non-null int64\n",
      "690_PI22     966 non-null int64\n",
      "690_PI12     966 non-null int64\n",
      "690_TO11     966 non-null int64\n",
      "690_TO31     966 non-null int64\n",
      "690_LA21     966 non-null int64\n",
      "690_TO21     966 non-null int64\n",
      "690_LA11     966 non-null int64\n",
      "710_EX8      966 non-null int64\n",
      "710_EX7      966 non-null int64\n",
      "700_PS12     966 non-null int64\n",
      "700_-1       966 non-null int64\n",
      "730_TO31     966 non-null int64\n",
      "730_TO21     966 non-null int64\n",
      "730_TO11     966 non-null int64\n",
      "720_MA1      966 non-null int64\n",
      "800_VD1      966 non-null int64\n",
      "800_VD8      966 non-null int64\n",
      "820_CPA      966 non-null int64\n",
      "820_CPB      966 non-null int64\n",
      "810_EX9      966 non-null int64\n",
      "810_EXA      966 non-null int64\n",
      "810_EX7      966 non-null int64\n",
      "830_TO4      966 non-null int64\n",
      "830_TO3      966 non-null int64\n",
      "830_TO2      966 non-null int64\n",
      "830_-1       966 non-null int64\n",
      "940_NM1      966 non-null int64\n",
      "940_NI2      966 non-null int64\n",
      "940_NI1      966 non-null int64\n",
      "940_-1       966 non-null int64\n",
      "910_EX7      966 non-null int64\n",
      "910_EXA      966 non-null int64\n",
      "900_PI1      966 non-null int64\n",
      "900_PI2      966 non-null int64\n",
      "900_-1       966 non-null int64\n",
      "920_TO2      966 non-null int64\n",
      "920_TO1      966 non-null int64\n",
      "1000_VD10    966 non-null int64\n",
      "1000_VD80    966 non-null int64\n",
      "1020_CPB8    966 non-null int64\n",
      "1020_CPA8    966 non-null int64\n",
      "1020_CP98    966 non-null int64\n",
      "1020_-1      966 non-null int64\n",
      "1010_EX91    966 non-null int64\n",
      "1010_EXA1    966 non-null int64\n",
      "1030_TO41    966 non-null int64\n",
      "1030_TO21    966 non-null int64\n",
      "1030_TO31    966 non-null int64\n",
      "1130_NI11    966 non-null int64\n",
      "1130_NM11    966 non-null int64\n",
      "1130_NI21    966 non-null int64\n",
      "1130_-1      966 non-null int64\n",
      "1110_EX23    966 non-null int64\n",
      "1110_EX91    966 non-null int64\n",
      "1110_EX51    966 non-null int64\n",
      "1110_EX33    966 non-null int64\n",
      "1100_PI12    966 non-null int64\n",
      "1100_PI22    966 non-null int64\n",
      "1100_PI21    966 non-null int64\n",
      "1100_-1      966 non-null int64\n",
      "1120_TO22    966 non-null int64\n",
      "1120_TO12    966 non-null int64\n",
      "label        966 non-null int64\n",
      "dtypes: int64(71), object(1)\n",
      "memory usage: 550.9+ KB\n"
     ]
    }
   ],
   "source": [
    "df_label1=df_station_machine_in_out[df_station_machine_in_out['label']==1].copy()\n",
    "df_label1.drop_duplicates(inplace=True)\n",
    "# print(df_label1.info())\n",
    "\n",
    "df_label0=df_station_machine_in_out[df_station_machine_in_out['label']==0].copy()\n",
    "df_label0.drop_duplicates(inplace=True)\n",
    "# print(df_label0.info())\n",
    "\n",
    "df_station_machine_in_out1=pd.concat([df_label1,df_label0],axis=0)\n",
    "df_station_machine_in_out1.drop_duplicates('SHEET_ID','first',inplace=True)\n",
    "df_station_machine_in_out1.to_csv(\"F:\\\\YIELD\\\\YoudaOptronics\\\\data_generation\\\\station_machine_in_out.csv\",index=False)\n",
    "df_station_machine_in_out1.info()"
   ]
  },
  {
   "cell_type": "code",
   "execution_count": null,
   "metadata": {},
   "outputs": [],
   "source": []
  },
  {
   "cell_type": "code",
   "execution_count": null,
   "metadata": {},
   "outputs": [],
   "source": []
  }
 ],
 "metadata": {
  "kernelspec": {
   "display_name": "Python 3",
   "language": "python",
   "name": "python3"
  },
  "language_info": {
   "codemirror_mode": {
    "name": "ipython",
    "version": 3
   },
   "file_extension": ".py",
   "mimetype": "text/x-python",
   "name": "python",
   "nbconvert_exporter": "python",
   "pygments_lexer": "ipython3",
   "version": "3.6.5"
  }
 },
 "nbformat": 4,
 "nbformat_minor": 2
}
