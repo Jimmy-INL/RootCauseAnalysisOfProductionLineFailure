{
 "cells": [
  {
   "cell_type": "code",
   "execution_count": 1,
   "metadata": {},
   "outputs": [],
   "source": [
    "import pandas as pd"
   ]
  },
  {
   "cell_type": "code",
   "execution_count": 73,
   "metadata": {},
   "outputs": [
    {
     "name": "stdout",
     "output_type": "stream",
     "text": [
      "Index(['SHEET_ID',        600,     '600R',        610,        620,     '640R',\n",
      "          '640QR',        640,     '700R',        690,     '710R',    '710QR',\n",
      "              710,        700,        730,        720,     '800R',     '810R',\n",
      "          '830QR',        800,        820,        810,        830,        940,\n",
      "              910,        900,        920,     '910R',     '900R',    '1000R',\n",
      "          '1010R',   '1000QR',       1000,       1020,       1010,       1030,\n",
      "             1130,       1110,       1100,       1120,    '1110R'],\n",
      "      dtype='object') Index(['600', '600R', '610', '620', '640R', '640QR', '640', '700R', '690',\n",
      "       '710R', '710QR', '710', '700', '730', '720', '800R', '810R', '830QR',\n",
      "       '800', '820', '810', '830', '940', '910', '900', '920', '910R', '900R',\n",
      "       '1000R', '1010R', '1000QR', '1000', '1020', '1010', '1030', '1130',\n",
      "       '1110', '1100', '1120', '1110R', 'SHEET_ID'],\n",
      "      dtype='object')\n"
     ]
    }
   ],
   "source": [
    "df_9P=pd.read_excel(\"F:\\\\良率\\\\友达光电\\\\Archive(1)\\\\9P_生产机台组成.xlsx\")\n",
    "df_9P.fillna(-1,inplace=True)\n",
    "df_equip_history=pd.read_csv(\"F:\\\\良率\\\\友达光电\\\\Archive(1)\\\\equip_history.csv\",engine=\"python\",sep=',',encoding='GBK')\n",
    "df_equip_history['SHEET_ID']=df_equip_history['锘縎HEET_ID']\n",
    "df_equip_history.drop(columns=['锘縎HEET_ID'],inplace=True)\n",
    "df_equip_history.fillna(-1,inplace=True)\n",
    "print(df_9P.columns,df_equip_history.columns)"
   ]
  },
  {
   "cell_type": "code",
   "execution_count": null,
   "metadata": {},
   "outputs": [],
   "source": []
  },
  {
   "cell_type": "code",
   "execution_count": 74,
   "metadata": {},
   "outputs": [
    {
     "name": "stdout",
     "output_type": "stream",
     "text": [
      "SHEET_ID False\n",
      "600 False\n",
      "600R False\n",
      "610 False\n",
      "620 False\n",
      "640R False\n",
      "640QR False\n",
      "640 False\n",
      "700R False\n",
      "690 False\n",
      "710R False\n",
      "710QR False\n",
      "710 False\n",
      "700 False\n",
      "730 False\n",
      "720 False\n",
      "800R False\n",
      "810R False\n",
      "830QR False\n",
      "800 False\n",
      "820 False\n",
      "810 False\n",
      "830 False\n",
      "940 False\n",
      "910 False\n",
      "900 False\n",
      "920 False\n",
      "910R False\n",
      "900R False\n",
      "1000R False\n",
      "1010R False\n",
      "1000QR False\n",
      "1000 False\n",
      "1020 False\n",
      "1010 False\n",
      "1030 False\n",
      "1130 False\n",
      "1110 False\n",
      "1100 False\n",
      "1120 False\n",
      "1110R False\n"
     ]
    }
   ],
   "source": [
    " for col in list(df_9P.columns):\n",
    "        print(col,any(df_9P[col]!=df_equip_history[str(col)]))"
   ]
  },
  {
   "cell_type": "code",
   "execution_count": 68,
   "metadata": {},
   "outputs": [
    {
     "data": {
      "text/plain": [
       "False"
      ]
     },
     "execution_count": 68,
     "metadata": {},
     "output_type": "execute_result"
    }
   ],
   "source": []
  },
  {
   "cell_type": "code",
   "execution_count": null,
   "metadata": {},
   "outputs": [],
   "source": []
  }
 ],
 "metadata": {
  "kernelspec": {
   "display_name": "Python 3",
   "language": "python",
   "name": "python3"
  },
  "language_info": {
   "codemirror_mode": {
    "name": "ipython",
    "version": 3
   },
   "file_extension": ".py",
   "mimetype": "text/x-python",
   "name": "python",
   "nbconvert_exporter": "python",
   "pygments_lexer": "ipython3",
   "version": "3.6.5"
  }
 },
 "nbformat": 4,
 "nbformat_minor": 2
}
